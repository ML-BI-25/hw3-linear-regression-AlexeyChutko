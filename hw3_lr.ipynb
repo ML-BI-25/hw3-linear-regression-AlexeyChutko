{
 "cells": [
  {
   "cell_type": "markdown",
   "metadata": {},
   "source": [
    "# Домашнее задание №3 - Реализация базового варианта линейной регрессии"
   ]
  },
  {
   "cell_type": "markdown",
   "metadata": {},
   "source": [
    "## Часть 1. Ваша реализация (60 баллов)"
   ]
  },
  {
   "cell_type": "markdown",
   "metadata": {},
   "source": [
    "В этой части домашки вам предстоит **реализовать класс LinearRegressionSGD**, который обучает линейную регрессию методом стохастического градиентного спуска (SGD). Класс должен поддерживать **L1, L2 и Elastic Net регуляризацию**. Помимо этого, необходимо реализовать методы для **визуализации процесса обучения**: график функции потерь по эпохам и распределение ошибок на той или иной эпохе.\n",
    "\n",
    "Ниже представлен шаблон кода с пропусками, которые необходимо заполнить.\n",
    "\n",
    "\n",
    "* вычисление лосса (15 баллов)\n",
    "* изменения в функции fit (25 баллов)\n",
    "* predict (5 баллов)\n",
    "* графики (15 баллов)"
   ]
  },
  {
   "cell_type": "code",
   "execution_count": 36,
   "metadata": {},
   "outputs": [],
   "source": [
    "import numpy as np\n",
    "import matplotlib.pyplot as plt\n",
    "import seaborn as sns"
   ]
  },
  {
   "cell_type": "code",
   "execution_count": 14,
   "metadata": {},
   "outputs": [],
   "source": [
    "class LinearRegressionSGD:\n",
    "    def __init__(self, lr=0.01, epochs=1000, reg_type=None, reg_lambda=0.01, alpha=0.5):\n",
    "        \"\"\"\n",
    "        Initialize the Linear Regression model with SGD.\n",
    "        :param lr: Learning rate\n",
    "        :param epochs: Number of training epochs\n",
    "        :param reg_type: Regularization type ('l1', 'l2', 'elastic_net', or None)\n",
    "        :param reg_lambda: Regularization strength\n",
    "        :param alpha: Mixing parameter for elastic net (0: L2, 1: L1)\n",
    "        \"\"\"\n",
    "        self.lr = lr\n",
    "        self.epochs = epochs\n",
    "        self.reg_type = reg_type\n",
    "        self.reg_lambda = reg_lambda\n",
    "        self.alpha = alpha\n",
    "        self.theta = None\n",
    "        self.loss_history = []\n",
    "        self.error_history = []\n",
    "    \n",
    "    def _compute_loss(self, X, y):\n",
    "        \"\"\"Compute MSE loss with regularization.\"\"\"\n",
    "        m = len(y)\n",
    "        predictions = X.dot(self.theta)\n",
    "        loss = # YOUR CODE HERE\n",
    "        \n",
    "        if self.reg_type == 'l2':\n",
    "            loss += self.reg_lambda * np.sum(self.theta ** 2) / 2\n",
    "        elif self.reg_type == 'l1':\n",
    "            # YOUR CODE HERE\n",
    "        elif self.reg_type == 'elastic_net':\n",
    "            # YOUR CODE HERE\n",
    "        \n",
    "        return loss\n",
    "    \n",
    "    def fit(self, X, y):\n",
    "        \"\"\"Train the model using stochastic gradient descent.\"\"\"\n",
    "        m, n = X.shape\n",
    "        self.theta = np.zeros(n)\n",
    "        \n",
    "        for epoch in range(self.epochs):\n",
    "            errors = []\n",
    "            for i in range(m):\n",
    "                idx = np.random.randint(0, m)\n",
    "                xi, yi = X[idx], y[idx]\n",
    "                prediction = np.dot(xi, self.theta)\n",
    "                error = prediction - yi\n",
    "                errors.append(error)\n",
    "                \n",
    "                # Compute gradient\n",
    "                gradient = xi * error\n",
    "                \n",
    "                # Apply regularization\n",
    "                # YOUR CODE HERE\n",
    "                \n",
    "                # Update weights\n",
    "                # YOUR CODE HERE\n",
    "                \n",
    "            # Compute loss at the end of each epoch\n",
    "            loss = self._compute_loss(X, y)\n",
    "            self.loss_history.append(loss)\n",
    "            self.error_history.append(errors)\n",
    "            \n",
    "    def predict(self, X):\n",
    "        \"\"\"Make predictions using the trained model.\"\"\"\n",
    "        return # YOUR CODE HERE\n",
    "    \n",
    "    def plot_loss(self):\n",
    "        \"\"\"Plot the loss distribution over epochs.\"\"\"\n",
    "        # YOUR CODE HERE\n",
    "        plt.xlabel('Epochs')\n",
    "        plt.ylabel('Loss')\n",
    "        plt.title('Loss distribution over epochs')\n",
    "        plt.legend()\n",
    "        plt.show()\n",
    "    \n",
    "    def plot_error_distribution(self, epoch):\n",
    "        \"\"\"Plot the distribution of errors for all points at each epoch.\"\"\"\n",
    "        # YOUR CODE HERE\n",
    "        plt.xlabel('Error')\n",
    "        plt.ylabel('Frequency')\n",
    "        plt.title(f'Error Distribution at Epoch {epoch}')\n",
    "        plt.legend()\n",
    "        plt.show()\n"
   ]
  },
  {
   "cell_type": "code",
   "execution_count": null,
   "metadata": {},
   "outputs": [],
   "source": []
  },
  {
   "cell_type": "markdown",
   "metadata": {},
   "source": [
    "## Часть 2. Проверяем вашу реализацию (25 баллов)"
   ]
  },
  {
   "cell_type": "markdown",
   "metadata": {},
   "source": [
    "Теперь для полученного класса вам нужно будет посмотреть, **как ведет себя регрессия для разных вариантов регуляризации**. Советуем рассмотреть несколько наборов значений для каждого вида регуляризации, а также посмотреть на несколько значений learning rate. \n",
    " \n",
    "Ваша цель - **понять какие значения лучше или хуже подходят** в случае ваших данных.\n",
    "\n",
    "В качестве данных вам предлагается использовать сгенерированные выборки. Ниже представлен код для генерации."
   ]
  },
  {
   "cell_type": "code",
   "execution_count": 38,
   "metadata": {},
   "outputs": [],
   "source": [
    "sample_size = 500"
   ]
  },
  {
   "cell_type": "code",
   "execution_count": 43,
   "metadata": {},
   "outputs": [
    {
     "data": {
      "image/png": "[encoded data removed]",
      "text/plain": [
       "<Figure size 640x480 with 1 Axes>"
      ]
     },
     "metadata": {},
     "output_type": "display_data"
    },
    {
     "data": {
      "image/png": "[encoded data removed]",
      "text/plain": [
       "<Figure size 640x480 with 1 Axes>"
      ]
     },
     "metadata": {},
     "output_type": "display_data"
    }
   ],
   "source": [
    "np.random.seed(1408)\n",
    "X = 2 * np.random.rand(sample_size, 1)\n",
    "y = 4 + 3 * X.squeeze() + np.random.randn(sample_size)\n",
    "\n",
    "# Add bias term\n",
    "X_b = np.c_[np.ones((sample_size, 1)), X]\n",
    "\n",
    "model = LinearRegressionSGD(lr=0.002, epochs=100, reg_lambda=0.1, alpha=0.5)\n",
    "model.fit(X_b, y)\n",
    "model.plot_loss()\n",
    "model.plot_error_distribution(80)"
   ]
  },
  {
   "cell_type": "code",
   "execution_count": null,
   "metadata": {},
   "outputs": [],
   "source": [
    "# YOUR CODE HERE"
   ]
  },
  {
   "cell_type": "code",
   "execution_count": null,
   "metadata": {},
   "outputs": [],
   "source": []
  },
  {
   "cell_type": "markdown",
   "metadata": {},
   "source": [
    "## Часть 3. (15 баллов)"
   ]
  },
  {
   "cell_type": "markdown",
   "metadata": {},
   "source": [
    "**Разбейте ваши данные** на две части в процентном соотношении 80/20, используя функцию `train_test_split` из `scikit-learn`. Первую часть используйте как **тренировочную выборку**, а а вторую - как **тестовую**.\n",
    "\n",
    "Посмотрите, **как меняются значения лоссов** на тренировочной и тестовой выборке в процессе обучения. Какие модели больше переобучаются, а какие меньше?\n",
    "\n",
    "*Если вы не понимаете как разбить вашу выборку, посмотрите другой файл домашки `hw3_data_analysis.ipynb`*"
   ]
  },
  {
   "cell_type": "code",
   "execution_count": null,
   "metadata": {},
   "outputs": [],
   "source": [
    "# YOUR CODE HERE"
   ]
  },
  {
   "cell_type": "code",
   "execution_count": null,
   "metadata": {},
   "outputs": [],
   "source": []
  },
  {
   "cell_type": "markdown",
   "metadata": {},
   "source": [
    "**Отлично! Вы дошли до конца этой сложной части третьей домашки!**\n",
    "\n",
    "Вы уже поняли, что мы ждём ваши впечатления. Особенно важно то, сколько времени у вас заняла эта часть. Нравятся ли вам задания с собственной реализацией методов и классов?"
   ]
  },
  {
   "cell_type": "code",
   "execution_count": null,
   "metadata": {},
   "outputs": [],
   "source": []
  },
  {
   "cell_type": "code",
   "execution_count": null,
   "metadata": {},
   "outputs": [],
   "source": []
  },
  {
   "cell_type": "markdown",
   "metadata": {},
   "source": [
    "## Давайте следующий вопрос"
   ]
  },
  {
   "cell_type": "markdown",
   "metadata": {},
   "source": [
    "Вставьте картинку, которая ассоциируется с вашим **любимым путешествием**. Пусть это будут горы или озёра, или любимая кафешка за пределами города, или фотка дома с котом, где вы провели какое-нибудь лето. Что угодно, где вам было комфортно и от чего у вас возникают тёплые воспоминания."
   ]
  },
  {
   "cell_type": "code",
   "execution_count": 3,
   "metadata": {},
   "outputs": [],
   "source": [
    "#We travel for romance, we travel for architecture, and we travel to be lost.\n",
    "#Ray Bradbury"
   ]
  },
  {
   "cell_type": "code",
   "execution_count": null,
   "metadata": {},
   "outputs": [],
   "source": []
  }
 ],
 "metadata": {
  "kernelspec": {
   "display_name": "Python 3",
   "language": "python",
   "name": "python3"
  },
  "language_info": {
   "codemirror_mode": {
    "name": "ipython",
    "version": 3
   },
   "file_extension": ".py",
   "mimetype": "text/x-python",
   "name": "python",
   "nbconvert_exporter": "python",
   "pygments_lexer": "ipython3",
   "version": "3.6.10"
  }
 },
 "nbformat": 4,
 "nbformat_minor": 5
}
